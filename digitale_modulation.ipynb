{
 "cells": [
  {
   "cell_type": "markdown",
   "metadata": {},
   "source": [
    "# Demonstration of digital modulation principles"
   ]
  },
  {
   "cell_type": "markdown",
   "metadata": {},
   "source": [
    "This demo is supposed to shed some light on the principles of [digital modulation techniquies](https://en.wikipedia.org/wiki/Modulation#Digital_modulation_methods). \n",
    "\n",
    "This demo is written by [Markus Nölle](https://www.htw-berlin.de/hochschule/personen/person/?eid=9586) for a basic course on [communications engineering](https://en.wikipedia.org/wiki/Telecommunications_engineering) hold at the [university of applied sciences, Berlin](https://www.htw-berlin.de/)."
   ]
  },
  {
   "cell_type": "markdown",
   "metadata": {},
   "source": [
    "## Import libraries and set defaults"
   ]
  },
  {
   "cell_type": "code",
   "execution_count": 30,
   "metadata": {
    "jupyter": {
     "source_hidden": true
    },
    "tags": []
   },
   "outputs": [],
   "source": [
    "import numpy as np\n",
    "import scipy.signal as signal\n",
    "import matplotlib.pyplot as plt\n",
    "import ipywidgets as widgets\n",
    "\n",
    "plt.style.use('noelle.mplstyle')"
   ]
  },
  {
   "cell_type": "markdown",
   "metadata": {},
   "source": [
    "## General parameters"
   ]
  },
  {
   "cell_type": "markdown",
   "metadata": {},
   "source": [
    "Basic parameters like sample rate, time axis and frequency axis are defined."
   ]
  },
  {
   "cell_type": "code",
   "execution_count": 31,
   "metadata": {
    "jupyter": {
     "source_hidden": true
    },
    "tags": []
   },
   "outputs": [],
   "source": [
    "sr = 120000\n",
    "symb_rate = 200 # symbol rate (has to be an even integer divider of sr)\n",
    "\n",
    "n_symb_show = 10\n",
    "fc = 600 # carrier frequency\n",
    "t = np.linspace(0, 1-1/sr, int(sr))\n",
    "f = np.fft.fftshift(np.fft.fftfreq(np.size(t), 1/sr))\n",
    "n = np.size(t) # length of signal\n",
    "n_symb = symb_rate # always 1 s simulation time\n",
    "sps = sr/symb_rate # samples per symbol"
   ]
  },
  {
   "cell_type": "markdown",
   "metadata": {},
   "source": [
    "## Signal generation and mapping"
   ]
  },
  {
   "cell_type": "code",
   "execution_count": 32,
   "metadata": {
    "jupyter": {
     "source_hidden": true
    }
   },
   "outputs": [
    {
     "data": {
      "application/vnd.jupyter.widget-view+json": {
       "model_id": "fb173462caa54b9c9d548d4d34f60227",
       "version_major": 2,
       "version_minor": 0
      },
      "text/plain": [
       "HBox(children=(IntSlider(value=2, continuous_update=False, description='no. levels:', max=16, min=2, step=2), …"
      ]
     },
     "metadata": {},
     "output_type": "display_data"
    },
    {
     "data": {
      "application/vnd.jupyter.widget-view+json": {
       "model_id": "bd4a69d99990452d9baeba5aef46d1aa",
       "version_major": 2,
       "version_minor": 0
      },
      "text/plain": [
       "Output(layout=Layout(height='300px'))"
      ]
     },
     "metadata": {},
     "output_type": "display_data"
    }
   ],
   "source": [
    "def signal_generation_mapping(levels, bipolar, quadrature):\n",
    "    \n",
    "    #levels = 2 # amplitude levels of I and Q\n",
    "    #bipolar = True # unipolar or bipolar\n",
    "    #quadrature = True # use quadrature modulation?\n",
    "    \n",
    "    global x_bits_i, x_bits_q\n",
    "    \n",
    "    np.random.seed(0)    \n",
    "    x_bits_i = np.random.randint(0, levels, n_symb)\n",
    "    x_bits_q = np.zeros_like(x_bits_i)\n",
    "\n",
    "    if bipolar:\n",
    "        x_bits_i = (x_bits_i-(levels - 1)/2)*2\n",
    "\n",
    "    if quadrature:\n",
    "        x_bits_q = np.random.randint(0, levels, n_symb)\n",
    "        if bipolar:\n",
    "            x_bits_q = (x_bits_q-(levels - 1)/2)*2\n",
    "\n",
    "    n_row = 1\n",
    "    n_col = 3\n",
    "    fig_size = [i*j for i,j in zip(plt.rcParams['figure.figsize'], [n_col, n_row])]\n",
    "    fig = plt.figure(figsize=fig_size)\n",
    "\n",
    "    ax = fig.add_subplot(n_row, n_col, 1)\n",
    "    plt.stem(x_bits_i[0:n_symb_show], markerfmt='C0o', linefmt='C0')\n",
    "    ax.set(xlabel=\"time / samples\", ylabel=\"inphase amplitude / a.u.\", ylim=(-np.max(x_bits_i)*1.1, np.max(x_bits_i)*1.1))\n",
    "\n",
    "    ax = fig.add_subplot(n_row, n_col, 2)\n",
    "    plt.stem(x_bits_q[0:n_symb_show], markerfmt='C1o', linefmt='C1')\n",
    "    ax.set(xlabel=\"time / samples\", ylabel=\"quadrature amplitude / a.u.\", ylim=(-np.max(x_bits_i)*1.1, np.max(x_bits_i)*1.1))\n",
    "\n",
    "    ax = fig.add_subplot(n_row, n_col, 3)\n",
    "    plt.plot(x_bits_i, x_bits_q, ls='',marker='o',markeredgecolor=(1.0, 0.0, 0.0), markerfacecolor=(1.0, 0.8, 0.3), ms=10, mew=3)\n",
    "    ax.set(xlabel=\"inphase amplitude / a.u.\", ylabel=\"quadrature amplitude / a.u.\", ylim=(-np.max(x_bits_i)*1.1, np.max(x_bits_i)*1.1), xlim=(-np.max(x_bits_i)*1.1, np.max(x_bits_i)*1.1));\n",
    "    ax.set_aspect('equal','box')\n",
    "\n",
    "    plt.tight_layout()\n",
    "    \n",
    "# generate sliders (widgets)\n",
    "w_levels = widgets.IntSlider(min=2, max=16, step=2, value=2, continuous_update=False, description='no. levels:')\n",
    "w_bipolar = widgets.Checkbox(value=False, description='Bipolar signal?', disabled=False)\n",
    "w_quadrature = widgets.Checkbox(value=False, description='Quadrature signal?', disabled=False)\n",
    "\n",
    "ui = widgets.HBox([w_levels, w_bipolar, w_quadrature])\n",
    "\n",
    "\n",
    "# call function (generate output)\n",
    "out = widgets.interactive_output(signal_generation_mapping, {'levels':w_levels, 'bipolar':w_bipolar, 'quadrature':w_quadrature})\n",
    "out.layout.height = '300px'\n",
    "\n",
    "# display all\n",
    "display(ui, out)"
   ]
  },
  {
   "cell_type": "markdown",
   "metadata": {},
   "source": [
    "## Pulseshaping"
   ]
  },
  {
   "cell_type": "code",
   "execution_count": 33,
   "metadata": {
    "jupyter": {
     "source_hidden": true
    },
    "tags": []
   },
   "outputs": [
    {
     "data": {
      "application/vnd.jupyter.widget-view+json": {
       "model_id": "5c86cf0e4e1d410b892178643f8ef02e",
       "version_major": 2,
       "version_minor": 0
      },
      "text/plain": [
       "HBox(children=(RadioButtons(description='pulseshape:', options=('RC', 'RRC', 'rect'), value='RC'), FloatSlider…"
      ]
     },
     "metadata": {},
     "output_type": "display_data"
    },
    {
     "data": {
      "application/vnd.jupyter.widget-view+json": {
       "model_id": "70b546f434194f37b33f2c9054f3998d",
       "version_major": 2,
       "version_minor": 0
      },
      "text/plain": [
       "Output(layout=Layout(height='600px'))"
      ]
     },
     "metadata": {},
     "output_type": "display_data"
    }
   ],
   "source": [
    "def pulseshaping(type, alpha):\n",
    "    \n",
    "    global x_i, x_q\n",
    "    \n",
    "    # generate filter inpule response\n",
    "    if type == 'rect':\n",
    "        # rect\n",
    "        h = np.ones(int(sps))\n",
    "    elif type == 'RC':\n",
    "        # RC\n",
    "        N = 20 * sps\n",
    "        t_filter = np.arange(-np.ceil(N/2)+1, np.floor(N/2)+1)\n",
    "        T = sps \n",
    "        with np.errstate(divide='ignore',invalid='ignore'):# avoid raising an divide by zero / NaN warning\n",
    "            h = ((np.sin(np.pi*t_filter/T)) / (np.pi*t_filter/T)) * ((np.cos(alpha*np.pi*t_filter/T)) / (1-(2*alpha*t_filter/T)**2))\n",
    "        h[t_filter==0] = 1\n",
    "        if alpha != 0.0:\n",
    "            h[np.abs(t_filter) == (T/(2*alpha))] = np.sin(np.pi/2/alpha) / (np.pi/2/alpha) * np.pi / 4\n",
    "    elif type == 'RRC':\n",
    "        # RRC\n",
    "        N = 20 * sps\n",
    "        t_filter = np.arange(-np.ceil(N/2)+1, np.floor(N/2)+1)\n",
    "        T = sps\n",
    "        with np.errstate(divide='ignore',invalid='ignore'):# avoid raising an divide by zero / NaN warning\n",
    "            h = (np.sin(np.pi * t_filter / T * (1-alpha)) + 4 * alpha * t_filter / T * np.cos(np.pi * t_filter / T * (1 + alpha))) / (np.pi * t_filter / T * (1 - (4 * alpha * t_filter / T)**2))\n",
    "        h[t_filter==0] = (1 - alpha + 4 * alpha / np.pi)\n",
    "        if alpha != 0.0:\n",
    "            h[np.abs(t_filter)==T/4/alpha] = alpha / np.sqrt(2) * ((1 + 2 / np.pi) * np.sin(np.pi / 4 / alpha) + (1 - 2 / np.pi) * np.cos(np.pi / 4 / alpha))\n",
    "\n",
    "\n",
    "    x_i = signal.upfirdn(h, x_bits_i, sps)\n",
    "    x_q = signal.upfirdn(h, x_bits_q, sps)\n",
    "\n",
    "    if x_i.size != x_bits_i.size*sps:\n",
    "        cut = x_i.size-(np.max((x_bits_i.size*sps,h.size)))\n",
    "        x_i = x_i[int(np.floor(cut/2)):-int(np.ceil(cut/2))]\n",
    "        x_q = x_q[int(np.floor(cut/2)):-int(np.ceil(cut/2))]\n",
    "\n",
    "    # plotting\n",
    "    n_row = 2\n",
    "    n_col = 3\n",
    "    fig_size = [i*j for i,j in zip(plt.rcParams['figure.figsize'], [n_col, n_row])]\n",
    "    fig = plt.figure(figsize=fig_size)\n",
    "\n",
    "    ax = fig.add_subplot(n_row, n_col, 1)\n",
    "    plt.plot(t[0:int(n_symb_show*sps):], x_i[0:int(n_symb_show*sps):] ,'C0')\n",
    "    plt.plot(t[int(sps/2)-1:int((n_symb_show+0.5)*sps-1):int(sps)], x_bits_i[0:n_symb_show:], ls='',marker='o',markeredgecolor=(1.0, 0.0, 0.0), markerfacecolor=(1.0, 0.8, 0.3), ms=10, mew=3)\n",
    "    ax.set(xlabel=\"time / s\", ylabel=\"inphase amplitude / a.u.\")\n",
    "\n",
    "    ax = fig.add_subplot(n_row, n_col, 4)\n",
    "    plt.plot(t[0:int(2*sps):], np.reshape(x_i,(int(2*sps),-1),order='F') ,'C0')\n",
    "    ax.set(xlabel=\"time / s\", ylabel=\"inphase amplitude / a.u.\")\n",
    "\n",
    "    ax = fig.add_subplot(n_row, n_col, 2)\n",
    "    plt.plot(t[0:int(n_symb_show*sps):], x_q[0:int(n_symb_show*sps):] ,'C1')\n",
    "    plt.plot(t[int(sps/2)-1:int((n_symb_show+0.5)*sps-1):int(sps)], x_bits_q[0:n_symb_show:], ls='',marker='o',markeredgecolor=(1.0, 0.0, 0.0), markerfacecolor=(1.0, 0.8, 0.3), ms=10, mew=3)\n",
    "    ax.set(xlabel=\"time / s\", ylabel=\"quadrature amplitude / a.u.\")\n",
    "\n",
    "    ax = fig.add_subplot(n_row, n_col, 5)\n",
    "    plt.plot(t[0:int(2*sps):], np.reshape(x_q,(int(2*sps),-1),order='F') ,'C1')\n",
    "    ax.set(xlabel=\"time / s\", ylabel=\"quadrature amplitude / a.u.\")\n",
    "\n",
    "    ax = fig.add_subplot(n_row, n_col, 3)\n",
    "    plt.plot(x_i, x_q ,'C9')\n",
    "    plt.plot(x_bits_i, x_bits_q, ls='',marker='o',markeredgecolor=(1.0, 0.0, 0.0), markerfacecolor=(1.0, 0.8, 0.3), ms=10, mew=3)\n",
    "    ax.set(xlabel=\"inphase amplitude / a.u.\", ylabel=\"quadrature amplitude / a.u.\", ylim=(-np.max(x_i)*1.1, np.max(x_i)*1.1), xlim=(-np.max(x_i)*1.1, np.max(x_i)*1.1));\n",
    "    ax.set_aspect('equal','box')\n",
    "\n",
    "    plt.tight_layout()\n",
    "    \n",
    "# generate sliders (widgets)\n",
    "w_alpha = widgets.FloatSlider(min=0.0, max=1.0, step=0.05, value=0.5, continuous_update=False, description='rolloff:')\n",
    "w_type = widgets.RadioButtons(options=['RC', 'RRC', 'rect'], value='RC', description='pulseshape:')\n",
    "\n",
    "ui = widgets.HBox([w_type, w_alpha])\n",
    "\n",
    "\n",
    "# call function (generate output)\n",
    "out = widgets.interactive_output(pulseshaping, {'type':w_type, 'alpha':w_alpha})\n",
    "out.layout.height = '600px'\n",
    "\n",
    "# display all\n",
    "display(ui, out)\n",
    "    "
   ]
  },
  {
   "cell_type": "markdown",
   "metadata": {},
   "source": [
    "## IQ-Modulation"
   ]
  },
  {
   "cell_type": "code",
   "execution_count": 34,
   "metadata": {
    "jupyter": {
     "source_hidden": true
    }
   },
   "outputs": [
    {
     "data": {
      "image/png": "[encoded data removed]",
      "text/plain": [
       "<Figure size 900x300 with 2 Axes>"
      ]
     },
     "metadata": {},
     "output_type": "display_data"
    }
   ],
   "source": [
    "def iq_modulation():\n",
    "    \n",
    "    global x_i, x_q, x_mod, fc\n",
    "        \n",
    "    c_i = np.cos(2*np.pi*fc*t)\n",
    "    c_q = -np.sin(2*np.pi*fc*t)\n",
    "\n",
    "    x_mod = x_i*c_i + x_q*c_q\n",
    "\n",
    "    # plotting\n",
    "    n_row = 1\n",
    "    n_col = 2\n",
    "    fig_size = [i*j for i,j in zip(plt.rcParams['figure.figsize'], [n_col, n_row])]\n",
    "    fig = plt.figure(figsize=fig_size)\n",
    "\n",
    "    ax = fig.add_subplot(n_row, n_col, 1)\n",
    "    plt.plot(t[0:int(n_symb_show*sps):], x_mod[0:int(n_symb_show*sps):] ,'C0')\n",
    "    ax.set(xlabel=\"time / s\", ylabel=\"amplitude / a.u.\")\n",
    "\n",
    "    ax = fig.add_subplot(n_row, n_col, 2)\n",
    "    ax.magnitude_spectrum(x_mod ,sides=\"twosided\", Fs=sr, scale=\"linear\", color='C0')\n",
    "    ax.set_xlim((-2*fc,2*fc))\n",
    "\n",
    "    plt.tight_layout()\n",
    "    \n",
    "iq_modulation()\n",
    "    \n",
    "# # generate sliders (widgets)\n",
    "# w_fc = widgets.FloatSlider(min=100, max=1000, step=100, value=600, continuous_update=False, description='fc:')\n",
    "\n",
    "\n",
    "# ui = widgets.HBox([w_fc])\n",
    "\n",
    "\n",
    "# # call function (generate output)\n",
    "# out = widgets.interactive_output(iq_modulation, {'fc':w_fc})\n",
    "# out.layout.height = '300px'\n",
    "\n",
    "# # display all\n",
    "# display(ui, out)\n",
    "\n"
   ]
  },
  {
   "cell_type": "markdown",
   "metadata": {},
   "source": [
    "## IQ-Demodulation"
   ]
  },
  {
   "cell_type": "code",
   "execution_count": 35,
   "metadata": {
    "jupyter": {
     "source_hidden": true
    },
    "tags": []
   },
   "outputs": [
    {
     "data": {
      "application/vnd.jupyter.widget-view+json": {
       "model_id": "49d36a15e0e24c61a23a55214b4d47c5",
       "version_major": 2,
       "version_minor": 0
      },
      "text/plain": [
       "HBox(children=(FloatSlider(value=0.0, continuous_update=False, description='$\\\\Delta \\\\phi$:', max=6.283185307…"
      ]
     },
     "metadata": {},
     "output_type": "display_data"
    },
    {
     "data": {
      "application/vnd.jupyter.widget-view+json": {
       "model_id": "2452148749f74c47af4bef21c099aa81",
       "version_major": 2,
       "version_minor": 0
      },
      "text/plain": [
       "Output(layout=Layout(height='600px'))"
      ]
     },
     "metadata": {},
     "output_type": "display_data"
    }
   ],
   "source": [
    "def iq_demodulation(dphi, df):\n",
    "    \n",
    "#     dphi = 0*np.pi/8\n",
    "#     df = 0*1\n",
    "\n",
    "    global x_bits_i, x_bits_q, x_mod, fc\n",
    "\n",
    "    # demod of I\n",
    "    c = np.cos(2*np.pi*(fc+df)*t + dphi)\n",
    "    x_i_demod = x_mod * c\n",
    "    # demod of Q\n",
    "    c = -np.sin(2*np.pi*(fc+df)*t + dphi)\n",
    "    x_q_demod = x_mod * c\n",
    "\n",
    "    # lowpass\n",
    "    # sinc / rect in freq. domain with cutoff equal to fc\n",
    "    tmp = np.linspace(-fc*np.pi,fc*np.pi, int(symb_rate*sps))\n",
    "    h = np.sin(tmp)/tmp\n",
    "    h /= 0.5*np.sum(h)\n",
    "    \n",
    "    \n",
    "    # filter signal\n",
    "    x_i_demod_filt = signal.convolve(x_i_demod, h, 'same')\n",
    "    x_q_demod_filt = signal.convolve(x_q_demod, h, 'same')\n",
    "    # cut filter effects\n",
    "    x_i_demod_filt = x_i_demod_filt[int(20*sps):-int(20*sps)]\n",
    "    x_q_demod_filt = x_q_demod_filt[int(20*sps):-int(20*sps)]\n",
    "    # prepare sent symobls\n",
    "    x_bits_i_tmp = x_bits_i[20:-20]\n",
    "    x_bits_q_tmp = x_bits_q[20:-20]\n",
    "\n",
    "    # sample\n",
    "    start = int(sps/2)\n",
    "    x_plot = x_i_demod_filt[start:-1:int(sps)] + 1j*x_q_demod_filt[start:-1:int(sps)]\n",
    "\n",
    "    # normalize\n",
    "    #xPlot = xPlot/max(abs(xPlot))*sqrt(2)\n",
    "\n",
    "    # plotting\n",
    "    n_row = 2\n",
    "    n_col = 3\n",
    "    fig_size = [i*j for i,j in zip(plt.rcParams['figure.figsize'], [n_col, n_row])]\n",
    "    fig = plt.figure(figsize=fig_size)\n",
    "        \n",
    "    ax = fig.add_subplot(n_row, n_col, 1)\n",
    "    plt.plot(t[0:int(n_symb_show*sps):], x_i_demod_filt[0:int(n_symb_show*sps):] ,'C0')\n",
    "    plt.plot(t[int(sps/2)-1:int((n_symb_show+0.5)*sps-1):int(sps)], x_bits_i_tmp[0:n_symb_show:], ls='',marker='o',markeredgecolor=(0.5, 0.5, 0.5), markerfacecolor=(0.8, 0.8, 0.8), ms=10, mew=3)\n",
    "    plt.plot(t[int(sps/2)-1:int((n_symb_show+0.5)*sps-1):int(sps)], np.real(x_plot[0:n_symb_show:]), ls='',marker='o',markeredgecolor=(1.0, 0.0, 0.0), markerfacecolor=(1.0, 0.8, 0.3), ms=10, mew=3)\n",
    "    ax.set(xlabel=\"time / s\", ylabel=\"inphase amplitude / a.u.\")\n",
    "\n",
    "    ax = fig.add_subplot(n_row, n_col, 4)\n",
    "    plt.plot(t[0:int(2*sps):], np.reshape(x_i_demod_filt,(int(2*sps),-1),order='F') ,'C0')\n",
    "    ax.set(xlabel=\"time / s\", ylabel=\"inphase amplitude / a.u.\")\n",
    "\n",
    "    ax = fig.add_subplot(n_row, n_col, 2)\n",
    "    plt.plot(t[0:int(n_symb_show*sps):], x_q_demod_filt[0:int(n_symb_show*sps):] ,'C1')\n",
    "    plt.plot(t[int(sps/2)-1:int((n_symb_show+0.5)*sps-1):int(sps)], x_bits_q_tmp[0:n_symb_show:], ls='',marker='o',markeredgecolor=(0.5, 0.5, 0.5), markerfacecolor=(0.8, 0.8, 0.8), ms=10, mew=3)\n",
    "    plt.plot(t[int(sps/2)-1:int((n_symb_show+0.5)*sps-1):int(sps)], np.imag(x_plot[0:n_symb_show:]), ls='',marker='o',markeredgecolor=(1.0, 0.0, 0.0), markerfacecolor=(1.0, 0.8, 0.3), ms=10, mew=3)\n",
    "    ax.set(xlabel=\"time / s\", ylabel=\"quadrature amplitude / a.u.\", ylim=(-np.max(x_i_demod_filt)*1.1, np.max(x_i_demod_filt)*1.1))\n",
    "\n",
    "    ax = fig.add_subplot(n_row, n_col, 5)\n",
    "    plt.plot(t[0:int(2*sps):], np.reshape(x_q_demod_filt,(int(2*sps),-1),order='F') ,'C1')\n",
    "    ax.set(xlabel=\"time / s\", ylabel=\"quadrature amplitude / a.u.\", ylim=(-np.max(x_i_demod_filt)*1.1, np.max(x_i_demod_filt)*1.1))\n",
    "\n",
    "    ax = fig.add_subplot(n_row, n_col, 3)\n",
    "    plt.plot(x_i_demod_filt, x_q_demod_filt ,'C9')\n",
    "    plt.plot(x_bits_i_tmp, x_bits_q_tmp, ls='',marker='o',markeredgecolor=(0.5, 0.5, 0.5), markerfacecolor=(0.8, 0.8, 0.8), ms=10, mew=3)\n",
    "    plt.plot(np.real(x_plot), np.imag(x_plot), ls='',marker='o',markeredgecolor=(1.0, 0.0, 0.0), markerfacecolor=(1.0, 0.8, 0.3), ms=10, mew=3)\n",
    "    ax.set(xlabel=\"inphase amplitude / a.u.\", ylabel=\"quadrature amplitude / a.u.\", ylim=(-np.max(x_i_demod_filt)*1.1, np.max(x_i_demod_filt)*1.1), xlim=(-np.max(x_i_demod_filt)*1.1, np.max(x_i_demod_filt)*1.1));\n",
    "    ax.set_aspect('equal','box')\n",
    "\n",
    "    plt.tight_layout()\n",
    "    \n",
    "# generate sliders (widgets)\n",
    "w_dphi = widgets.FloatSlider(min=0.0, max=2*np.pi, step=0.1, value=0, continuous_update=False, description='$\\Delta \\phi$:')\n",
    "w_df = widgets.FloatSlider(min=0.0, max=10, step=0.1, value=0, continuous_update=False, description='$\\Delta f$:')\n",
    "\n",
    "ui = widgets.HBox([w_dphi, w_df])\n",
    "\n",
    "\n",
    "# call function (generate output)\n",
    "out = widgets.interactive_output(iq_demodulation, {'dphi':w_dphi, 'df':w_df})\n",
    "out.layout.height = '600px'\n",
    "\n",
    "# display all\n",
    "display(ui, out)\n"
   ]
  },
  {
   "cell_type": "code",
   "execution_count": null,
   "metadata": {
    "jupyter": {
     "source_hidden": true
    }
   },
   "outputs": [],
   "source": []
  }
 ],
 "metadata": {
  "kernelspec": {
   "display_name": "Python 3 (ipykernel)",
   "language": "python",
   "name": "python3"
  },
  "language_info": {
   "codemirror_mode": {
    "name": "ipython",
    "version": 3
   },
   "file_extension": ".py",
   "mimetype": "text/x-python",
   "name": "python",
   "nbconvert_exporter": "python",
   "pygments_lexer": "ipython3",
   "version": "3.10.2"
  }
 },
 "nbformat": 4,
 "nbformat_minor": 4
}
