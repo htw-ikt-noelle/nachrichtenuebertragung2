{
 "cells": [
  {
   "cell_type": "markdown",
   "id": "94bfe5b7-6e84-4608-a17d-85f97ec5e4b6",
   "metadata": {
    "jp-MarkdownHeadingCollapsed": true
   },
   "source": [
    "# Nachrichtenübertragung 2\n",
    "\n",
    "## Einleitung\n",
    "Bild Überblick System\n",
    "\n",
    "## Bandpassübertragungssysteme\n",
    "\n",
    "## Analoge Modulation \n",
    "\n",
    "1. [Amplitudenmodulation](amplitudenmodulation.ipynb)\n",
    "1. [Phasenmodulation](phasenmodulation.ipynb)\n",
    "1. [Frequenzmodulation](frequenzmodulation.ipynb)\n",
    "1. Quadraturamplitudenmodulation\n",
    "\n",
    "## Digitale Modulation\n",
    "\n",
    "1. [Digitale Modulation](digitale_modulation.ipynb)\n",
    "1. [Beispiele digitale Modulation](modulation_examples.ipynb)\n",
    "\n",
    "## Orthogonales Frequenzmultiplex (Orthogonal Frequency-Division Multiplex, OFDM)\n",
    "\n",
    "## Kanalcodierung\n",
    "\n",
    "\n",
    "## Literatur"
   ]
  }
 ],
 "metadata": {
  "kernelspec": {
   "display_name": "Python 3 (ipykernel)",
   "language": "python",
   "name": "python3"
  },
  "language_info": {
   "codemirror_mode": {
    "name": "ipython",
    "version": 3
   },
   "file_extension": ".py",
   "mimetype": "text/x-python",
   "name": "python",
   "nbconvert_exporter": "python",
   "pygments_lexer": "ipython3",
   "version": "3.11.4"
  }
 },
 "nbformat": 4,
 "nbformat_minor": 5
}
