{
 "cells": [
  {
   "cell_type": "markdown",
   "id": "dfb2df2e-d73a-4722-ba9b-129a4030259c",
   "metadata": {
    "tags": []
   },
   "source": [
    "# Beispiel digitale Modulation"
   ]
  },
  {
   "cell_type": "markdown",
   "id": "2432ed2c-23be-45b3-b33c-684562dabc37",
   "metadata": {},
   "source": [
    "Dieses [Jupyter Notebook](https://de.wikipedia.org/wiki/Project_Jupyter#Jupyter_Notebook) gibt einen ersten Einblick in die Thematik der digitalen [Modulation](https://de.wikipedia.org/wiki/Modulation_(Technik)) und dient als interaktives Begleitmaterial zu dem Modul \"Einführung in die IKT\" des Studiengangs [IKT](https://ikt-bachelor.htw-berlin.de/) der [HTW Berlin](https://www.htw-berlin.de/).\n",
    "\n",
    "Zusätzlich kann es auch als ein erster Kontakt mit der Programmiersprache Python gesehen werden, da der Code des interaktiven Notebooks eingesehen, angepasst und erweitert werden kann.\n",
    "\n",
    "Um dieses Notebook auf Ihrem Rechner ausführen zu können benötigen Sie eine Python Installtion und zusätzlich die Module\n",
    "* [numpy](https://numpy.org/)\n",
    "* [matplotlib](https://matplotlib.org/)\n",
    "* [jupyter](https://jupyter.org/) und\n",
    "* [jupyter-widgets](https://ipywidgets.readthedocs.io/en/stable/).\n",
    "\n",
    "Bei Rückfragen oder Problemen wenden Sie sich einfach gerne an [mich](https://www.htw-berlin.de/hochschule/personen/person/?eid=9586)."
   ]
  },
  {
   "cell_type": "code",
   "execution_count": 1,
   "id": "9babe8b3-c644-48d7-8411-543570f1f052",
   "metadata": {
    "jupyter": {
     "source_hidden": true
    },
    "tags": []
   },
   "outputs": [],
   "source": [
    "import numpy as np\n",
    "import matplotlib.pyplot as plt\n",
    "import matplotlib.pyplot as plt\n",
    "import ipywidgets as widgets\n",
    "\n",
    "plt.style.use('noelle.mplstyle')"
   ]
  },
  {
   "cell_type": "code",
   "execution_count": 2,
   "id": "fec330ef-bc7c-4388-8a45-1524ea7b7011",
   "metadata": {
    "jupyter": {
     "source_hidden": true
    },
    "tags": []
   },
   "outputs": [],
   "source": [
    "def bits_to_dec(bits, m):\n",
    "    \"\"\" Convert 1D array of bits into 1D array of decimals, using a resolution of m bits.\n",
    "    \n",
    "    \"\"\"\n",
    "    bits = np.asarray(bits)    \n",
    "    \n",
    "    bits_reshape = bits.reshape((-1, m))\n",
    "    bit_val = np.reshape(2**(np.arange(m-1,-1,-1)),(1,-1))\n",
    "    decimals = np.sum(bits_reshape * bit_val, axis=-1).astype(int)\n",
    "    \n",
    "    return decimals"
   ]
  },
  {
   "cell_type": "code",
   "execution_count": 3,
   "id": "d2498c30-50ec-4a2a-84f0-27ba3da72f6b",
   "metadata": {
    "jupyter": {
     "source_hidden": true
    },
    "tags": []
   },
   "outputs": [],
   "source": [
    "def dec_to_bits(decimals, m):\n",
    "    \"\"\" Convert 1D array of decimals into 1D array of bits, using a resolution of m bits.\n",
    "    \n",
    "    \"\"\"\n",
    "    decimals = np.asarray(decimals)\n",
    "    \n",
    "    if decimals.ndim > 1:\n",
    "        raise ValueError('dimension of bits should be <=1...')        \n",
    "    \n",
    "    bits = np.full((decimals.size,m), np.nan)\n",
    "    tmp = decimals\n",
    "    \n",
    "    for bit in np.arange(m-1,-1,-1):        \n",
    "        bits[:, bit] = tmp % 2\n",
    "        tmp = tmp // 2\n",
    "                        \n",
    "    bits = bits.reshape(decimals.size*m).astype(bool)\n",
    "    \n",
    "    return bits"
   ]
  },
  {
   "cell_type": "code",
   "execution_count": 4,
   "id": "b05e4f0f-9a47-43a3-8502-257342abeda4",
   "metadata": {
    "jupyter": {
     "source_hidden": true
    },
    "tags": []
   },
   "outputs": [],
   "source": [
    "def mapper(bits, constellation):\n",
    "    \"\"\" Map bits to a given constellation alphabet. \n",
    "    \n",
    "    \"\"\"\n",
    "    m = int(np.log2(constellation.size))\n",
    "    decimals = np.full((int(bits.shape[0]/m),), np.nan)\n",
    "    \n",
    "    if m == 1:\n",
    "        decimals = bits        \n",
    "    else:\n",
    "        decimals = bits_to_dec(bits, m)\n",
    "    \n",
    "    symbols = constellation[decimals.astype(int)]\n",
    "    \n",
    "    return symbols"
   ]
  },
  {
   "cell_type": "code",
   "execution_count": 5,
   "id": "a7360691-cdf1-4fb5-b741-75cd67532d20",
   "metadata": {
    "jupyter": {
     "source_hidden": true
    },
    "tags": []
   },
   "outputs": [],
   "source": [
    "def demapper(samples, constellation):\n",
    "    \"\"\"    \n",
    "    Demap samples to bits using a given constellation alphabet.   \n",
    "\n",
    "    \"\"\"\n",
    "    samples = np.asarray(samples)\n",
    "    constellation = np.asarray(constellation)\n",
    "\n",
    "    if constellation.ndim > 1:\n",
    "        raise ValueError('number of dimensions of constellation must not exceed 1!')\n",
    "\n",
    "    if samples.ndim > 1:\n",
    "        raise ValueError('number of dimensions of samples must not exceed 1!')\n",
    "\n",
    "    decimals = np.full_like(samples.real, np.nan)\n",
    "    bps = int(np.log2(constellation.size))    \n",
    "    \n",
    "    for const_idx, const_point in enumerate(constellation):\n",
    "        decimals[samples == const_point] = const_idx\n",
    "    \n",
    "    # convert constellation index (decimal) to bits\n",
    "    bits = dec_to_bits(decimals, bps)        \n",
    "  \n",
    "    return bits"
   ]
  },
  {
   "cell_type": "code",
   "execution_count": 6,
   "id": "863f995c-d049-4d27-a1f1-7d47aa63064c",
   "metadata": {
    "jupyter": {
     "source_hidden": true
    },
    "tags": []
   },
   "outputs": [],
   "source": [
    "def generate_and_plot_signals(mod_format='OOK'):\n",
    "    \"\"\" Generate constellation, baseband, carrier and bandpass (modulated) signal and plot them.\n",
    "    \n",
    "    \"\"\"\n",
    "    \n",
    "    # some parameters (can be changed)\n",
    "    n_symbols = 6\n",
    "    sample_rate = 100\n",
    "    symbol_rate = 1 # fix!\n",
    "    carrier_freq = 2    \n",
    "    # time axis\n",
    "    t = np.arange(n_symbols*sample_rate) / sample_rate\n",
    "    # carrier signal\n",
    "    carrier = np.exp(2j * np.pi * carrier_freq * t)\n",
    "    # set constellation according modulation format\n",
    "    if mod_format == 'OOK':\n",
    "        const = np.asarray([0, 1])\n",
    "        const = const / np.max(np.abs(const))\n",
    "    elif mod_format == 'BPSK':\n",
    "        const = np.asarray([-1, 1])\n",
    "        const = const / np.max(np.abs(const))\n",
    "    elif mod_format == '4-ASK (unipolar)':\n",
    "        const = np.asarray([0, 1, 2, 3])\n",
    "        const = const / np.max(np.abs(const))\n",
    "    elif mod_format == '4-ASK (bipolar)':\n",
    "        const = np.asarray([-3, -1, 3, 1])\n",
    "        const = const / np.max(np.abs(const))\n",
    "    elif mod_format == 'QPSK':\n",
    "        const = np.asarray([-1-1j, -1+1j, 1-1j, 1+1j])\n",
    "        const = const / np.max(np.abs(const))\n",
    "    elif mod_format == '16-QAM':\n",
    "        const = np.asarray([-3-3j, -3-1j, -3+1j, -3+3j, -1-3j, -1-1j, -1+1j, -1+3j, 1-3j, 1-1j, 1+1j, 1+3j, 3-3j, 3-1j, 3+1j, 3+3j])\n",
    "        const = const / np.max(np.abs(const))\n",
    "    else:\n",
    "        raise ValueError('Modulation format not known')\n",
    "    \n",
    "    bits_per_symbol = int(np.log2(const.size))\n",
    "    # generate random bits\n",
    "    bits = np.random.randint(0, high=2, size=n_symbols*bits_per_symbol)\n",
    "    # map bits to symbols according constellation\n",
    "    symbols = mapper(bits, const)\n",
    "    \n",
    "    # plot the signals\n",
    "    n_row = 1\n",
    "    n_col = 3\n",
    "    fig_size = [i*j for i,j in zip(plt.rcParams['figure.figsize'], [n_col, n_row])]\n",
    "    fig = plt.figure(figsize=fig_size)\n",
    "    # unmodulated carrier\n",
    "    ax = fig.add_subplot(n_row, n_col, 1)\n",
    "    ax.plot(t, np.real(carrier))\n",
    "    ax.set_ylim((-np.max(np.abs(const))-1, np.max(np.abs(const))+1))\n",
    "    ax.set(xlabel=\"time / s\", ylabel=\"amplitude / a.u.\",title='unmodulated carrier')\n",
    "    #  constellation\n",
    "    ax = fig.add_subplot(n_row, n_col, 2)\n",
    "    ax.plot(const.real, const.imag, 'o')\n",
    "    for idx, symbol in enumerate(const):\n",
    "        ax.annotate(str(dec_to_bits(idx,m = int(np.log2(const.size))).astype(int)),(symbol.real-0.1, symbol.imag+0.1), xycoords='data', size=8)    \n",
    "    ax.set_ylim((np.min(const.imag)-1, np.max(const.imag)+1))\n",
    "    ax.set_xlim((np.min(const.real)-1, np.max(const.real)+1))\n",
    "    ax.set(xlabel=\"real part\", ylabel=\"imaginary part\",title='constellation diagram')\n",
    "    ax.set_aspect('equal', 'box')\n",
    "    # modulated signal\n",
    "    ax = fig.add_subplot(n_row, n_col, 3)\n",
    "    ax.plot(t, np.real(np.repeat(symbols, int(sample_rate/symbol_rate)) * carrier))\n",
    "    for idx, symbol in enumerate(symbols):\n",
    "        ax.annotate(str(demapper(symbol, const).astype(int)),(idx, np.max(np.abs(symbols))+0.3), xycoords='data', size=8)\n",
    "    ax.set_ylim((-np.max(np.abs(const))-1, np.max(np.abs(const))+1))\n",
    "    ax.set(xlabel=\"time / s\", ylabel=\"amplitude / a.u.\",title='modulated carrier')\n",
    "    fig.set_tight_layout(True)\n",
    "    plt.show()"
   ]
  },
  {
   "cell_type": "code",
   "execution_count": 7,
   "id": "49cf8fc5-0f25-4779-8f0b-27d393b2ce84",
   "metadata": {
    "jupyter": {
     "source_hidden": true
    },
    "tags": []
   },
   "outputs": [
    {
     "data": {
      "application/vnd.jupyter.widget-view+json": {
       "model_id": "a16667892bd24e078663947f8480369d",
       "version_major": 2,
       "version_minor": 0
      },
      "text/plain": [
       "RadioButtons(description='Modulation format:', options=('OOK', 'BPSK', '4-ASK (unipolar)', '4-ASK (bipolar)', …"
      ]
     },
     "metadata": {},
     "output_type": "display_data"
    },
    {
     "data": {
      "application/vnd.jupyter.widget-view+json": {
       "model_id": "c9bd30b4937f4a4180721f1495ad6f07",
       "version_major": 2,
       "version_minor": 0
      },
      "text/plain": [
       "Output(layout=Layout(height='300px'))"
      ]
     },
     "metadata": {},
     "output_type": "display_data"
    }
   ],
   "source": [
    "w_mod_format = widgets.RadioButtons(options=['OOK', 'BPSK', '4-ASK (unipolar)', '4-ASK (bipolar)', 'QPSK', '16-QAM'], value='OOK', description='Modulation format:', disabled=False)\n",
    "\n",
    "out = widgets.interactive_output(generate_and_plot_signals, {'mod_format':w_mod_format})\n",
    "out.layout.height = '300px'\n",
    "# display all\n",
    "display(w_mod_format, out)"
   ]
  }
 ],
 "metadata": {
  "kernelspec": {
   "display_name": "Python 3 (ipykernel)",
   "language": "python",
   "name": "python3"
  },
  "language_info": {
   "codemirror_mode": {
    "name": "ipython",
    "version": 3
   },
   "file_extension": ".py",
   "mimetype": "text/x-python",
   "name": "python",
   "nbconvert_exporter": "python",
   "pygments_lexer": "ipython3",
   "version": "3.11.4"
  }
 },
 "nbformat": 4,
 "nbformat_minor": 5
}
